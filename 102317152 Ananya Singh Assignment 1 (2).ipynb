{
 "cells": [
  {
   "cell_type": "code",
   "execution_count": 1,
   "id": "b65fdb49-42b8-40fb-8127-87d09688b0b5",
   "metadata": {},
   "outputs": [
    {
     "name": "stdout",
     "output_type": "stream",
     "text": [
      "Enter marks for Student 1:\n"
     ]
    },
    {
     "name": "stdin",
     "output_type": "stream",
     "text": [
      "Maths:  98\n",
      "Science:  87\n",
      "English:  78\n",
      "IT:  93\n"
     ]
    },
    {
     "name": "stdout",
     "output_type": "stream",
     "text": [
      "Enter marks for Student 2:\n"
     ]
    },
    {
     "name": "stdin",
     "output_type": "stream",
     "text": [
      "Maths:  86\n",
      "Science:  78\n",
      "English:  65\n",
      "IT:  78\n"
     ]
    },
    {
     "name": "stdout",
     "output_type": "stream",
     "text": [
      "Enter marks for Student 3:\n"
     ]
    },
    {
     "name": "stdin",
     "output_type": "stream",
     "text": [
      "Maths:  76\n",
      "Science:  87\n",
      "English:  67\n",
      "IT:  56\n"
     ]
    },
    {
     "name": "stdout",
     "output_type": "stream",
     "text": [
      "Enter marks for Student 4:\n"
     ]
    },
    {
     "name": "stdin",
     "output_type": "stream",
     "text": [
      "Maths:  78\n",
      "Science:  98\n",
      "English:  76\n",
      "IT:  87\n"
     ]
    },
    {
     "name": "stdout",
     "output_type": "stream",
     "text": [
      "Enter marks for Student 5:\n"
     ]
    },
    {
     "name": "stdin",
     "output_type": "stream",
     "text": [
      "Maths:  89\n",
      "Science:  87\n",
      "English:  89\n",
      "IT:  88\n"
     ]
    },
    {
     "name": "stdout",
     "output_type": "stream",
     "text": [
      "Enter marks for Student 6:\n"
     ]
    },
    {
     "name": "stdin",
     "output_type": "stream",
     "text": [
      "Maths:  87\n",
      "Science:  87\n",
      "English:  86\n",
      "IT:  91\n"
     ]
    },
    {
     "name": "stdout",
     "output_type": "stream",
     "text": [
      "Enter marks for Student 7:\n"
     ]
    },
    {
     "name": "stdin",
     "output_type": "stream",
     "text": [
      "Maths:  78\n",
      "Science:  78\n",
      "English:  67\n",
      "IT:  97\n"
     ]
    },
    {
     "name": "stdout",
     "output_type": "stream",
     "text": [
      "Enter marks for Student 8:\n"
     ]
    },
    {
     "name": "stdin",
     "output_type": "stream",
     "text": [
      "Maths:  98\n",
      "Science:  87\n",
      "English:  86\n",
      "IT:  76\n"
     ]
    },
    {
     "name": "stdout",
     "output_type": "stream",
     "text": [
      "Enter marks for Student 9:\n"
     ]
    },
    {
     "name": "stdin",
     "output_type": "stream",
     "text": [
      "Maths:  98\n",
      "Science:  87\n",
      "English:  87\n",
      "IT:  89\n"
     ]
    },
    {
     "name": "stdout",
     "output_type": "stream",
     "text": [
      "Enter marks for Student 10:\n"
     ]
    },
    {
     "name": "stdin",
     "output_type": "stream",
     "text": [
      "Maths:  84\n",
      "Science:  98\n",
      "English:  86\n",
      "IT:  93\n"
     ]
    },
    {
     "name": "stdout",
     "output_type": "stream",
     "text": [
      "\n",
      "Results for each test:\n",
      "Maths - Highest: 98, Lowest: 76, Average: 87.20\n",
      "Science - Highest: 98, Lowest: 78, Average: 87.40\n",
      "English - Highest: 89, Lowest: 65, Average: 78.70\n",
      "IT - Highest: 97, Lowest: 56, Average: 84.80\n",
      "\n",
      "Overall results:\n",
      "Overall Highest: 98, Overall Lowest: 56, Overall Average: 84.53\n"
     ]
    }
   ],
   "source": [
    "maths_marks = []\n",
    "science_marks = []\n",
    "english_marks = []\n",
    "it_marks = []\n",
    "for i in range(10):\n",
    "    print(f\"Enter marks for Student {i + 1}:\")\n",
    "    maths = int(input(\"Maths: \"))\n",
    "    science = int(input(\"Science: \"))\n",
    "    english = int(input(\"English: \"))\n",
    "    it = int(input(\"IT: \"))\n",
    "    maths_marks.append(maths)\n",
    "    science_marks.append(science)\n",
    "    english_marks.append(english)\n",
    "    it_marks.append(it)\n",
    "def calc_stats(marks):\n",
    "    return max(marks), min(marks), sum(marks) / len(marks)\n",
    "maths_high, maths_low, maths_avg = calc_stats(maths_marks)\n",
    "science_high, science_low, science_avg = calc_stats(science_marks)\n",
    "english_high, english_low, english_avg = calc_stats(english_marks)\n",
    "it_high, it_low, it_avg = calc_stats(it_marks)\n",
    "all_marks = maths_marks + science_marks + english_marks + it_marks\n",
    "overall_high, overall_low, overall_avg = calc_stats(all_marks)\n",
    "print(\"\\nResults for each test:\")\n",
    "print(f\"Maths - Highest: {maths_high}, Lowest: {maths_low}, Average: {maths_avg:.2f}\")\n",
    "print(f\"Science - Highest: {science_high}, Lowest: {science_low}, Average: {science_avg:.2f}\")\n",
    "print(f\"English - Highest: {english_high}, Lowest: {english_low}, Average: {english_avg:.2f}\")\n",
    "print(f\"IT - Highest: {it_high}, Lowest: {it_low}, Average: {it_avg:.2f}\")\n",
    "print(\"\\nOverall results:\")\n",
    "print(f\"Overall Highest: {overall_high}, Overall Lowest: {overall_low}, Overall Average: {overall_avg:.2f}\")"
   ]
  },
  {
   "cell_type": "markdown",
   "id": "2b572fbc-4917-4e61-9c5c-fd2d9916f054",
   "metadata": {},
   "source": [
    "question 2\n"
   ]
  },
  {
   "cell_type": "code",
   "execution_count": 5,
   "id": "3807f658-a60c-4ba1-95a2-89165d695a0a",
   "metadata": {},
   "outputs": [
    {
     "name": "stdin",
     "output_type": "stream",
     "text": [
      "Enter the basic salary of the employee:  200000\n"
     ]
    },
    {
     "name": "stdout",
     "output_type": "stream",
     "text": [
      "The gross salary of the employee is: 450000.0\n"
     ]
    }
   ],
   "source": [
    "def grosssalary(basic_salary):\n",
    "    if basic_salary <= 10000:\n",
    "        hra = 0.20 * basic_salary\n",
    "        da = 0.80 * basic_salary\n",
    "    elif basic_salary <= 20000:\n",
    "        hra = 0.25 * basic_salary\n",
    "        da = 0.90 * basic_salary\n",
    "    else:\n",
    "        hra = 0.30 * basic_salary\n",
    "        da = 0.95 * basic_salary\n",
    "    gross_salary = basic_salary + hra + da\n",
    "    return gross_salary\n",
    "basic_salary = float(input(\"Enter the basic salary of the employee: \"))\n",
    "gross_salary = grosssalary(basic_salary)\n",
    "print(f\"The gross salary of the employee is: {gross_salary}\")\n"
   ]
  },
  {
   "cell_type": "markdown",
   "id": "cb494809-1d79-4722-a9e2-5a3b4c818e1b",
   "metadata": {},
   "source": [
    "question 3\n"
   ]
  },
  {
   "cell_type": "code",
   "execution_count": 9,
   "id": "584bc77f-8026-4d9d-a54e-c8a69a05160b",
   "metadata": {},
   "outputs": [
    {
     "name": "stdin",
     "output_type": "stream",
     "text": [
      "Enter your password:  3&Abc\n"
     ]
    },
    {
     "name": "stdout",
     "output_type": "stream",
     "text": [
      "Password must be between 6 and 16 characters.\n"
     ]
    }
   ],
   "source": [
    "def check_password_validity(password):\n",
    "    if len(password) < 6 or len(password) > 16:\n",
    "        print(\"Password must be between 6 and 16 characters.\")\n",
    "    elif not any(c.islower() for c in password):\n",
    "        print(\"Password must contain at least one lowercase letter.\")\n",
    "    elif not any(c.isupper() for c in password):\n",
    "        print(\"Password must contain at least one uppercase letter.\")\n",
    "    elif not any(c.isdigit() for c in password):\n",
    "        print(\"Password must contain at least one number.\")\n",
    "    elif not any(c in \"$#@\" for c in password):\n",
    "        print(\"Password must contain at least one special character from [$#@].\")\n",
    "    else:\n",
    "        print(\"Password is valid.\")\n",
    "password = input(\"Enter your password: \")\n",
    "check_password_validity(password)\n"
   ]
  },
  {
   "cell_type": "markdown",
   "id": "64af15fa-0e29-44dc-9bcd-e96a319d7a37",
   "metadata": {},
   "source": [
    "question 4\n"
   ]
  },
  {
   "cell_type": "code",
   "execution_count": 11,
   "id": "187b0862-54e4-46bd-9a75-93caecf2b223",
   "metadata": {},
   "outputs": [
    {
     "name": "stdout",
     "output_type": "stream",
     "text": [
      "List after adding 200 and 300: [10, 20, 30, 40, 50, 60, 70, 80, 200, 300]\n",
      "List after removing 10 and 30: [20, 40, 50, 60, 70, 80, 200, 300]\n",
      "List in ascending order: [20, 40, 50, 60, 70, 80, 200, 300]\n",
      "List in descending order: [300, 200, 80, 70, 60, 50, 40, 20]\n"
     ]
    }
   ],
   "source": [
    "L = [10, 20, 30, 40, 50, 60, 70, 80]\n",
    "L.append(200)\n",
    "L.append(300)\n",
    "print(\"List after adding 200 and 300:\", L)\n",
    "L.remove(10)\n",
    "L.remove(30)\n",
    "print(\"List after removing 10 and 30:\", L)\n",
    "L.sort()\n",
    "print(\"List in ascending order:\", L)\n",
    "L.sort(reverse=True)\n",
    "print(\"List in descending order:\", L)\n"
   ]
  },
  {
   "cell_type": "markdown",
   "id": "fbb137fe-3f1a-476e-bbb6-e14c63ff9a5d",
   "metadata": {},
   "source": [
    "question 5\n"
   ]
  },
  {
   "cell_type": "code",
   "execution_count": 13,
   "id": "a8a64c39-93f5-4cea-b343-ed217b709964",
   "metadata": {},
   "outputs": [
    {
     "name": "stdout",
     "output_type": "stream",
     "text": [
      "after adding {1: 'One', 2: 'Two', 3: 'Three', 4: 'Four', 5: 'Five', 6: 'Six'}\n",
      "after removing key=2: {1: 'One', 3: 'Three', 4: 'Four', 5: 'Five', 6: 'Six'}\n",
      "Key 6 is present in D.\n",
      "Number of elements in D: 5\n",
      "sum : 19\n"
     ]
    }
   ],
   "source": [
    "D = {1: \"One\", 2: \"Two\", 3: \"Three\", 4: \"Four\", 5: \"Five\"}\n",
    "D[6] = \"Six\"\n",
    "print(\"after adding\", D)\n",
    "del D[2]\n",
    "print(\"after removing key=2:\", D)\n",
    "if 6 in D:\n",
    "    print(\"Key 6 is present in D.\")\n",
    "else:\n",
    "    print(\"Key 6 is not present in D.\")\n",
    "num_elements = len(D)\n",
    "print(\"Number of elements in D:\", num_elements)\n",
    "values = D.values()\n",
    "values_sum = sum(len(value) for value in values) \n",
    "print(\"sum :\", values_sum)\n"
   ]
  },
  {
   "cell_type": "markdown",
   "id": "30e04968-6ab1-4a72-b0b5-3fb33ee63c6d",
   "metadata": {},
   "source": [
    "question 6\n"
   ]
  },
  {
   "cell_type": "code",
   "execution_count": 15,
   "id": "c4e47099-b535-417b-8908-baac73473c32",
   "metadata": {},
   "outputs": [
    {
     "name": "stdout",
     "output_type": "stream",
     "text": [
      "List of 100 random numbers: [567, 879, 566, 164, 676, 844, 116, 758, 371, 558, 418, 880, 699, 898, 481, 194, 820, 395, 598, 263, 718, 880, 108, 363, 406, 562, 612, 342, 409, 791, 717, 699, 478, 737, 258, 200, 186, 851, 759, 202, 269, 692, 346, 776, 872, 393, 759, 546, 686, 254, 737, 154, 474, 477, 209, 785, 644, 150, 351, 668, 276, 563, 741, 798, 362, 568, 252, 618, 837, 149, 620, 891, 276, 788, 830, 418, 141, 195, 453, 630, 155, 898, 587, 726, 313, 633, 146, 335, 390, 220, 219, 606, 435, 490, 888, 253, 160, 701, 670, 353]\n",
      "Count of odd numbers: 41\n",
      "Count of even numbers: 59\n",
      "Count of prime numbers: 9\n"
     ]
    }
   ],
   "source": [
    "import random\n",
    "import math\n",
    "def is_prime(n):\n",
    "    if n <= 1:\n",
    "        return False\n",
    "    for i in range(2, int(math.sqrt(n)) + 1):\n",
    "        if n % i == 0:\n",
    "            return False\n",
    "    return True\n",
    "random_numbers = [random.randint(100, 900) for _ in range(100)]\n",
    "odd = 0\n",
    "even = 0\n",
    "prime = 0\n",
    "for num in random_numbers:\n",
    "    if num % 2 != 0:\n",
    "        odd += 1  \n",
    "    else:\n",
    "        even+= 1  \n",
    "    if is_prime(num):\n",
    "        prime += 1 \n",
    "print(f\"List of 100 random numbers: {random_numbers}\")\n",
    "print(f\"Count of odd numbers: {odd}\")\n",
    "print(f\"Count of even numbers: {even}\")\n",
    "print(f\"Count of prime numbers: {prime}\")"
   ]
  },
  {
   "cell_type": "markdown",
   "id": "3759ec55-6b31-405b-a198-56644c539374",
   "metadata": {},
   "source": [
    "question 7\n"
   ]
  },
  {
   "cell_type": "code",
   "execution_count": 1,
   "id": "3112d0e5-bdb7-4d2c-8bf5-e741223f6aab",
   "metadata": {},
   "outputs": [
    {
     "name": "stdin",
     "output_type": "stream",
     "text": [
      "Enter the principal amount:  2000000\n",
      "Enter the interest rate (in %):  12\n",
      "Enter the time (in years):  10\n"
     ]
    },
    {
     "name": "stdout",
     "output_type": "stream",
     "text": [
      "Compound Interest: 4211696.42\n"
     ]
    }
   ],
   "source": [
    "from untitled2 import calculate_compound_interest\n",
    "\n",
    "principal = float(input(\"Enter the principal amount: \"))\n",
    "rate = float(input(\"Enter the interest rate (in %): \"))\n",
    "time = float(input(\"Enter the time (in years): \"))\n",
    "\n",
    "ci = calculate_compound_interest(principal, rate, time)\n",
    "print(f\"Compound Interest: {ci:.2f}\")\n"
   ]
  },
  {
   "cell_type": "markdown",
   "id": "81d5ecbd-ef6e-44a5-8b44-8c4789da24db",
   "metadata": {},
   "source": [
    "question 8\n"
   ]
  },
  {
   "cell_type": "code",
   "execution_count": 17,
   "id": "4436c2e2-5fff-41e3-82f8-4002bd75bb81",
   "metadata": {},
   "outputs": [
    {
     "name": "stdout",
     "output_type": "stream",
     "text": [
      "Restaurant Name: Tasty Bites\n",
      "Cuisine Type: Italian\n",
      "Restaurant Name: Tasty Bites\n",
      "Cuisine Type: Italian\n",
      "The restaurant Tasty Bites is now open!\n"
     ]
    }
   ],
   "source": [
    "class Restaurant:\n",
    "    def __init__(self, restaurant_name, cuisine_type):\n",
    "        self.restaurant_name = restaurant_name\n",
    "        self.cuisine_type = cuisine_type\n",
    "    def describe_restaurant(self):\n",
    "        print(f\"Restaurant Name: {self.restaurant_name}\")\n",
    "        print(f\"Cuisine Type: {self.cuisine_type}\")\n",
    "    def open_restaurant(self):\n",
    "        print(f\"The restaurant {self.restaurant_name} is now open!\")\n",
    "restaurant = Restaurant(\"Tasty Bites\", \"Italian\")\n",
    "print(f\"Restaurant Name: {restaurant.restaurant_name}\")\n",
    "print(f\"Cuisine Type: {restaurant.cuisine_type}\")\n",
    "restaurant.describe_restaurant()\n",
    "restaurant.open_restaurant()\n"
   ]
  },
  {
   "cell_type": "markdown",
   "id": "c4afaa75-06a9-4087-9a46-3b3a2e2cdd01",
   "metadata": {},
   "source": [
    "8(b)"
   ]
  },
  {
   "cell_type": "code",
   "execution_count": 19,
   "id": "5227c92d-3de7-4fc5-ac60-57c741019f8f",
   "metadata": {},
   "outputs": [
    {
     "name": "stdout",
     "output_type": "stream",
     "text": [
      "User Profile:\n",
      "Name: armaan  verma\n",
      "Age: 28\n",
      "Email: armaan.verma@example.com\n",
      "Location: himachal pradesh\n",
      "Hello armaan  verma, welcome back!\n",
      "\n",
      "User Profile:\n",
      "Name: anhad Singh\n",
      "Age: 34\n",
      "Email: anhad.singh@example.com\n",
      "Location: punjab\n",
      "Hello anhad Singh, welcome back!\n",
      "\n",
      "User Profile:\n",
      "Name: Aarya sharma\n",
      "Age: 25\n",
      "Email: aarya.sharma@example.com\n",
      "Location: Chandigarh\n",
      "Hello Aarya sharma, welcome back!\n"
     ]
    }
   ],
   "source": [
    "class User:\n",
    "    def __init__(self, first_name, last_name, age, email, location):\n",
    "        self.first_name = first_name\n",
    "        self.last_name = last_name\n",
    "        self.age = age\n",
    "        self.email = email\n",
    "        self.location = location\n",
    "    def describe_user(self):\n",
    "        print(f\"User Profile:\")\n",
    "        print(f\"Name: {self.first_name} {self.last_name}\")\n",
    "        print(f\"Age: {self.age}\")\n",
    "        print(f\"Email: {self.email}\")\n",
    "        print(f\"Location: {self.location}\")\n",
    "    def greet_user(self):\n",
    "        print(f\"Hello {self.first_name} {self.last_name}, welcome back!\")\n",
    "user1 = User(\"armaan \", \"verma\", 28, \"armaan.verma@example.com\", \"himachal pradesh\")\n",
    "user2 = User(\"anhad\", \"Singh\", 34, \"anhad.singh@example.com\", \"punjab\")\n",
    "user3 = User(\"Aarya\", \"sharma\", 25, \"aarya.sharma@example.com\", \"Chandigarh\")\n",
    "user1.describe_user()\n",
    "user1.greet_user()\n",
    "print()  \n",
    "user2.describe_user()\n",
    "user2.greet_user()\n",
    "print()  \n",
    "user3.describe_user()\n",
    "user3.greet_user()\n"
   ]
  },
  {
   "cell_type": "code",
   "execution_count": null,
   "id": "978a7908-5427-48a4-8fe2-aab1487c1992",
   "metadata": {},
   "outputs": [],
   "source": []
  }
 ],
 "metadata": {
  "kernelspec": {
   "display_name": "Python 3 (ipykernel)",
   "language": "python",
   "name": "python3"
  },
  "language_info": {
   "codemirror_mode": {
    "name": "ipython",
    "version": 3
   },
   "file_extension": ".py",
   "mimetype": "text/x-python",
   "name": "python",
   "nbconvert_exporter": "python",
   "pygments_lexer": "ipython3",
   "version": "3.11.7"
  }
 },
 "nbformat": 4,
 "nbformat_minor": 5
}
